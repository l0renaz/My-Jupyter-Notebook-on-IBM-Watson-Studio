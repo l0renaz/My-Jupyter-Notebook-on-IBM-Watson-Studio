{
 "cells": [
  {
   "cell_type": "markdown",
   "metadata": {},
   "source": [
    "<center>\n",
    "    <img src=\"https://s3-api.us-geo.objectstorage.softlayer.net/cf-courses-data/CognitiveClass/Logos/organization_logo/organization_logo.png\" width=\"300\" alt=\"cognitiveclass.ai logo\"  />\n",
    "</center>\n"
   ]
  },
  {
   "cell_type": "markdown",
   "metadata": {},
   "source": [
    "# My Jupyter Notebook on IBM Watson Studio"
   ]
  },
  {
   "cell_type": "markdown",
   "metadata": {},
   "source": [
    "__LORENA GONZAGA__\n",
    " - estudante de Relações Internacionais e Integração e iniciante ao mundo dos Dados"
   ]
  },
  {
   "cell_type": "markdown",
   "metadata": {},
   "source": [
    "_Estou interessada na Ciência de Dados e na Análise de Dados poelo fato de se chegar a resultados incríveis através de decisões com base em dados, além de ter um bom mercado de trabalho._"
   ]
  },
  {
   "cell_type": "markdown",
   "metadata": {},
   "source": [
    "### Na próxima célula eu estará a resposta de quando é 2*2"
   ]
  },
  {
   "cell_type": "code",
   "execution_count": 7,
   "metadata": {},
   "outputs": [
    {
     "data": {
      "text/plain": [
       "4"
      ]
     },
     "execution_count": 7,
     "metadata": {},
     "output_type": "execute_result"
    }
   ],
   "source": [
    "2 * 2"
   ]
  },
  {
   "cell_type": "markdown",
   "metadata": {},
   "source": [
    "Durante minha graduação, eu realizei um projeto de pesquisa que estuda o tema do Desenvolvimento Internacional na Revista da CEPAL e utilizei metodologia qualitativa e quantitativa.\n",
    "Irei aprensentar minha pesquisa no XV Encontro Internacional da ANPHLAC. Para uma prévia dos resultados, pode acessar minhas redes abaixo. Essa pesquisa também é meu portifólio, pois pretendo trabalhar com a _análise de dados_ para obter mais respostas sobre o _desenvolvimento internacional_. Segue minhas redes:\n",
    "* [Tableau](https://public.tableau.com/app/profile/lorena.gonzaga)\n",
    "* [LinkedIn](https://www.linkedin.com/in/lorena-gonzaga-716222176/)."
   ]
  },
  {
   "cell_type": "code",
   "execution_count": null,
   "metadata": {},
   "outputs": [],
   "source": []
  },
  {
   "cell_type": "code",
   "execution_count": null,
   "metadata": {},
   "outputs": [],
   "source": []
  }
 ],
 "metadata": {
  "kernelspec": {
   "display_name": "Python",
   "language": "python",
   "name": "conda-env-python-py"
  },
  "language_info": {
   "codemirror_mode": {
    "name": "ipython",
    "version": 3
   },
   "file_extension": ".py",
   "mimetype": "text/x-python",
   "name": "python",
   "nbconvert_exporter": "python",
   "pygments_lexer": "ipython3",
   "version": "3.7.12"
  }
 },
 "nbformat": 4,
 "nbformat_minor": 4
}
